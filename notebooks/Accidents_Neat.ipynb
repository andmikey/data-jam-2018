{
 "cells": [
  {
   "cell_type": "markdown",
   "metadata": {},
   "source": [
    "# Import data"
   ]
  },
  {
   "cell_type": "code",
   "execution_count": 24,
   "metadata": {},
   "outputs": [],
   "source": [
    "import pandas\n",
    "base_data_url = \"../datasets/project/road safety/road-safety-data-{}\""
   ]
  },
  {
   "cell_type": "code",
   "execution_count": 25,
   "metadata": {},
   "outputs": [],
   "source": [
    "accidents_16 = pandas.read_csv(base_data_url.format(\"accidents-2016.csv\"))\n",
    "accidents_15 = pandas.read_csv(base_data_url.format(\"accidents-2015.csv\"))\n",
    "accidents_14 = pandas.read_csv(base_data_url.format(\"accidents-2005-2014.csv\"))"
   ]
  },
  {
   "cell_type": "code",
   "execution_count": 26,
   "metadata": {},
   "outputs": [],
   "source": [
    "accidents = pandas.DataFrame()\n",
    "accidents = pandas.concat([accidents, accidents_15, accidents_14], axis=0)"
   ]
  },
  {
   "cell_type": "code",
   "execution_count": 75,
   "metadata": {},
   "outputs": [],
   "source": [
    "# accidents"
   ]
  },
  {
   "cell_type": "markdown",
   "metadata": {},
   "source": [
    "# Investigate correlations\n",
    "1. Are serious or fatal accidents more likely in bad weather?\n",
    "2. Are serious or fatal accidents more likely during the night?\n",
    "3. Do serious or fatal accidents have, on average, a longer distance from a streetlight?\n",
    "4. Do any times of day, days of week, or weeks of year have more serious or fatal accidents?"
   ]
  },
  {
   "cell_type": "markdown",
   "metadata": {},
   "source": [
    "# 1: Bad weather"
   ]
  },
  {
   "cell_type": "code",
   "execution_count": 56,
   "metadata": {},
   "outputs": [],
   "source": [
    "# Replace the weather with a number: 1 for bad weather, 0 for good\n",
    "replacement_list = {'Fine + high winds': 1,\n",
    "  'Fine no high winds': 0,\n",
    "  'Fog or mist': 1,\n",
    "  'Other': 0,\n",
    "  'Raining + high winds': 1,\n",
    "  'Raining no high winds': 1,\n",
    "  'Snowing + high winds': 1,\n",
    "  'Snowing no high winds': 1}"
   ]
  },
  {
   "cell_type": "code",
   "execution_count": 62,
   "metadata": {},
   "outputs": [],
   "source": [
    "severities = [\"Serious\", \"Slight\", \"Fatal\"]"
   ]
  },
  {
   "cell_type": "code",
   "execution_count": 67,
   "metadata": {},
   "outputs": [],
   "source": [
    "w_dict = {}\n",
    "for severity in severities:\n",
    "    w_dict[severity] = {}\n",
    "    for weather_type in replacement_list.keys():\n",
    "        matches = len(accidents[(accidents[\"Weather_Conditions\"] == weather_type) &\n",
    "                               (accidents[\"Accident_Severity\"] == severity)])\n",
    "        w_dict[severity][weather_type] = matches"
   ]
  },
  {
   "cell_type": "code",
   "execution_count": 68,
   "metadata": {},
   "outputs": [],
   "source": [
    "# Plot results\n",
    "import matplotlib.pyplot as plt\n",
    "plt.rcParams[\"figure.figsize\"] = (40,20)\n",
    "\n",
    "d_serious = w_dict[\"Serious\"]\n",
    "d_slight = w_dict[\"Slight\"]\n",
    "d_fatal = w_dict[\"Fatal\"]\n"
   ]
  },
  {
   "cell_type": "code",
   "execution_count": 70,
   "metadata": {},
   "outputs": [],
   "source": [
    "def plot_wtype(wtype, title):\n",
    "    plt.figure()\n",
    "    plt.title = title\n",
    "    plt.bar(range(len(wtype)), list(wtype.values()), align='center')\n",
    "    plt.xticks(range(len(wtype)), list(wtype.keys()))\n",
    "    plt.show()"
   ]
  },
  {
   "cell_type": "code",
   "execution_count": 74,
   "metadata": {},
   "outputs": [],
   "source": [
    "# plot_wtype(d_fatal, \"Fatal\")"
   ]
  },
  {
   "cell_type": "code",
   "execution_count": 20,
   "metadata": {},
   "outputs": [],
   "source": [
    "# Replace the weather\n",
    "# accidents[\"Weather_Conditions\"] = accidents[\"Weather_Conditions\"].map(replacement_list)"
   ]
  }
 ],
 "metadata": {
  "kernelspec": {
   "display_name": "Python 3",
   "language": "python",
   "name": "python3"
  },
  "language_info": {
   "codemirror_mode": {
    "name": "ipython",
    "version": 3
   },
   "file_extension": ".py",
   "mimetype": "text/x-python",
   "name": "python",
   "nbconvert_exporter": "python",
   "pygments_lexer": "ipython3",
   "version": "3.6.4"
  }
 },
 "nbformat": 4,
 "nbformat_minor": 2
}
