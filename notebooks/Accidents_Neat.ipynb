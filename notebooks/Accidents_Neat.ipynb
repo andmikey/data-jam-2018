{
 "cells": [
  {
   "cell_type": "markdown",
   "metadata": {},
   "source": [
    "# Import data"
   ]
  },
  {
   "cell_type": "code",
   "execution_count": 190,
   "metadata": {},
   "outputs": [],
   "source": [
    "import pandas\n",
    "base_data_url = \"../datasets/project/road safety/road-safety-data-{}\""
   ]
  },
  {
   "cell_type": "code",
   "execution_count": 191,
   "metadata": {},
   "outputs": [],
   "source": [
    "accidents_16 = pandas.read_csv(base_data_url.format(\"accidents-2016.csv\"))\n",
    "accidents_15 = pandas.read_csv(base_data_url.format(\"accidents-2015.csv\"))\n",
    "accidents_14 = pandas.read_csv(base_data_url.format(\"accidents-2005-2014.csv\"))"
   ]
  },
  {
   "cell_type": "code",
   "execution_count": 192,
   "metadata": {},
   "outputs": [],
   "source": [
    "accidents = pandas.DataFrame()\n",
    "accidents = pandas.concat([accidents, accidents_15, accidents_14], axis=0)"
   ]
  },
  {
   "cell_type": "code",
   "execution_count": 193,
   "metadata": {},
   "outputs": [],
   "source": [
    "# accidents"
   ]
  },
  {
   "cell_type": "markdown",
   "metadata": {},
   "source": [
    "# Investigate correlations\n",
    "1. Are serious or fatal accidents more likely in bad weather?\n",
    "2. Are serious or fatal accidents more likely during the night?\n",
    "3. Do serious or fatal accidents have, on average, a longer distance from a streetlight?\n",
    "4. Do any times of day, days of week, or weeks of year have more serious or fatal accidents?"
   ]
  },
  {
   "cell_type": "markdown",
   "metadata": {},
   "source": [
    "# 1: Bad weather\n",
    "## Plotting"
   ]
  },
  {
   "cell_type": "code",
   "execution_count": 194,
   "metadata": {},
   "outputs": [],
   "source": [
    "# Replace the weather with a number: 1 for bad weather, 0 for good\n",
    "replacement_list = {'Fine + high winds': 1,\n",
    "  'Fine no high winds': 0,\n",
    "  'Fog or mist': 1,\n",
    "  'Other': 0,\n",
    "  'Raining + high winds': 1,\n",
    "  'Raining no high winds': 1,\n",
    "  'Snowing + high winds': 1,\n",
    "  'Snowing no high winds': 1}"
   ]
  },
  {
   "cell_type": "code",
   "execution_count": 195,
   "metadata": {},
   "outputs": [],
   "source": [
    "severities = [\"Serious\", \"Slight\", \"Fatal\"]"
   ]
  },
  {
   "cell_type": "code",
   "execution_count": 196,
   "metadata": {},
   "outputs": [],
   "source": [
    "w_dict = {}\n",
    "for severity in severities:\n",
    "    w_dict[severity] = {}\n",
    "    for weather_type in replacement_list.keys():\n",
    "        matches = len(accidents[(accidents[\"Weather_Conditions\"] == weather_type) &\n",
    "                               (accidents[\"Accident_Severity\"] == severity)])\n",
    "        w_dict[severity][weather_type] = matches"
   ]
  },
  {
   "cell_type": "code",
   "execution_count": 197,
   "metadata": {},
   "outputs": [],
   "source": [
    "# Plot results\n",
    "import matplotlib.pyplot as plt\n",
    "plt.rcParams[\"figure.figsize\"] = (40,20)\n",
    "\n",
    "d_serious = w_dict[\"Serious\"]\n",
    "d_slight = w_dict[\"Slight\"]\n",
    "d_fatal = w_dict[\"Fatal\"]\n"
   ]
  },
  {
   "cell_type": "code",
   "execution_count": 198,
   "metadata": {},
   "outputs": [],
   "source": [
    "def plot_wtype(wtype, title):\n",
    "    plt.figure()\n",
    "    plt.title = title\n",
    "    plt.bar(range(len(wtype)), list(wtype.values()), align='center')\n",
    "    plt.xticks(range(len(wtype)), list(wtype.keys()))\n",
    "    plt.show()"
   ]
  },
  {
   "cell_type": "code",
   "execution_count": 199,
   "metadata": {},
   "outputs": [],
   "source": [
    "# plot_wtype(d_fatal, \"Fatal\")"
   ]
  },
  {
   "cell_type": "markdown",
   "metadata": {},
   "source": [
    "## Hypothesis testing\n",
    "$H_0$: Prop(bad, (serious|fatal)) = Prop(bad, slight)\n",
    "\n",
    "\n",
    "$H_1$: Prop(bad, (serious|fatal)) > Prop(bad, slight)\n",
    "\n",
    "For a p-value of 0.05."
   ]
  },
  {
   "cell_type": "code",
   "execution_count": 200,
   "metadata": {},
   "outputs": [],
   "source": [
    "# Replace the weather\n",
    "accidents[\"Weather_Conditions\"] = accidents[\"Weather_Conditions\"].map(replacement_list)"
   ]
  },
  {
   "cell_type": "code",
   "execution_count": 201,
   "metadata": {},
   "outputs": [],
   "source": [
    "slight_list = list(accidents[\n",
    "    (accidents[\"Accident_Severity\"] == \"Slight\")]\n",
    "                   .Weather_Conditions)"
   ]
  },
  {
   "cell_type": "code",
   "execution_count": 202,
   "metadata": {},
   "outputs": [],
   "source": [
    "bad_list = list(accidents[\n",
    "    (accidents[\"Accident_Severity\"] == (\"Serious\" or \"Fatal\"))]\n",
    "                   .Weather_Conditions)"
   ]
  },
  {
   "cell_type": "code",
   "execution_count": 203,
   "metadata": {},
   "outputs": [
    {
     "data": {
      "text/plain": [
       "Ttest_indResult(statistic=1.5539014982290393, pvalue=0.12033987342840149)"
      ]
     },
     "execution_count": 203,
     "metadata": {},
     "output_type": "execute_result"
    }
   ],
   "source": [
    "# Actually do the hypothesis test\n",
    "from scipy.stats import ttest_ind\n",
    "ttest_ind(slight_list, bad_list)"
   ]
  },
  {
   "cell_type": "markdown",
   "metadata": {},
   "source": [
    "p > 0.05, so the result is not significant and we accept the null hypothesis."
   ]
  },
  {
   "cell_type": "markdown",
   "metadata": {},
   "source": [
    "# 2: Times of day\n",
    "$H_0$: Prop(serious, night"
   ]
  },
  {
   "cell_type": "code",
   "execution_count": 205,
   "metadata": {},
   "outputs": [],
   "source": [
    "accidents = pandas.concat([accidents, accidents_15, accidents_14], axis=0)"
   ]
  },
  {
   "cell_type": "code",
   "execution_count": 265,
   "metadata": {},
   "outputs": [],
   "source": [
    "import datetime\n",
    "from astral import Astral\n",
    "city_name = 'Edinburgh'\n",
    "a = Astral()\n",
    "a.solar_depression = 'civil'\n",
    "city = a[city_name]\n",
    "\n",
    "def sun_at_day(day):\n",
    "    sun = city.sun(date = day, local=False)\n",
    "    return sun\n",
    "\n",
    "def is_day(x):\n",
    "    time_x = datetime.datetime.strptime(x + \"+0000\", '%d/%m/%Y %H:%M%z')\n",
    "    sun = sun_at_day(time_x)\n",
    "    \n",
    "    \n",
    "    if (sun['sunrise'] < time_x < sun['sunset']):\n",
    "        return 1\n",
    "    return 0"
   ]
  },
  {
   "cell_type": "code",
   "execution_count": 266,
   "metadata": {},
   "outputs": [],
   "source": [
    "bad_accidents = accidents[(accidents[\"Accident_Severity\"] == (\"Serious\" or \"Fatal\"))]\n",
    "slight_accidents = accidents[(accidents[\"Accident_Severity\"] == \"Slight\")]"
   ]
  },
  {
   "cell_type": "code",
   "execution_count": 267,
   "metadata": {},
   "outputs": [],
   "source": [
    "bad_dt = bad_accidents.Date + \" \" + bad_accidents.Time\n",
    "slight_dt = slight_accidents.Date + \" \" + slight_accidents.Time"
   ]
  },
  {
   "cell_type": "code",
   "execution_count": 268,
   "metadata": {},
   "outputs": [],
   "source": [
    "bad_dt = bad_dt.map(lambda x: is_day(x))\n",
    "slight_dt = slight_dt.map(lambda x: is_day(x))"
   ]
  },
  {
   "cell_type": "code",
   "execution_count": 272,
   "metadata": {},
   "outputs": [
    {
     "data": {
      "text/plain": [
       "Ttest_indResult(statistic=-2.4521838884095044, pvalue=0.014222786385748119)"
      ]
     },
     "execution_count": 272,
     "metadata": {},
     "output_type": "execute_result"
    }
   ],
   "source": [
    "from scipy.stats import ttest_ind\n",
    "ttest_ind(bad_dt, slight_dt)"
   ]
  },
  {
   "cell_type": "code",
   "execution_count": null,
   "metadata": {},
   "outputs": [],
   "source": []
  }
 ],
 "metadata": {
  "kernelspec": {
   "display_name": "Python 3",
   "language": "python",
   "name": "python3"
  },
  "language_info": {
   "codemirror_mode": {
    "name": "ipython",
    "version": 3
   },
   "file_extension": ".py",
   "mimetype": "text/x-python",
   "name": "python",
   "nbconvert_exporter": "python",
   "pygments_lexer": "ipython3",
   "version": "3.6.4"
  }
 },
 "nbformat": 4,
 "nbformat_minor": 2
}
