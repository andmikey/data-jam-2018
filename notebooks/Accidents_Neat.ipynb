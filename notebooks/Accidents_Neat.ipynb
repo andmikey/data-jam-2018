{
 "cells": [
  {
   "cell_type": "markdown",
   "metadata": {},
   "source": [
    "# Import data"
   ]
  },
  {
   "cell_type": "code",
   "execution_count": 190,
   "metadata": {},
   "outputs": [],
   "source": [
    "import pandas\n",
    "base_data_url = \"../datasets/project/road safety/road-safety-data-{}\""
   ]
  },
  {
   "cell_type": "code",
   "execution_count": 191,
   "metadata": {},
   "outputs": [],
   "source": [
    "accidents_16 = pandas.read_csv(base_data_url.format(\"accidents-2016.csv\"))\n",
    "accidents_15 = pandas.read_csv(base_data_url.format(\"accidents-2015.csv\"))\n",
    "accidents_14 = pandas.read_csv(base_data_url.format(\"accidents-2005-2014.csv\"))"
   ]
  },
  {
   "cell_type": "code",
   "execution_count": 192,
   "metadata": {},
   "outputs": [],
   "source": [
    "accidents = pandas.DataFrame()\n",
    "accidents = pandas.concat([accidents, accidents_15, accidents_14], axis=0)"
   ]
  },
  {
   "cell_type": "code",
   "execution_count": 193,
   "metadata": {},
   "outputs": [],
   "source": [
    "# accidents"
   ]
  },
  {
   "cell_type": "markdown",
   "metadata": {},
   "source": [
    "# Investigate correlations\n",
    "1. Are serious or fatal accidents more likely in bad weather?\n",
    "2. Are serious or fatal accidents more likely during the night?\n",
    "3. Do serious or fatal accidents have, on average, a longer distance from a streetlight?\n",
    "4. Do any times of day, days of week, or weeks of year have more serious or fatal accidents?"
   ]
  },
  {
   "cell_type": "markdown",
   "metadata": {},
   "source": [
    "# 1: Bad weather\n",
    "## Plotting"
   ]
  },
  {
   "cell_type": "code",
   "execution_count": 194,
   "metadata": {},
   "outputs": [],
   "source": [
    "# Replace the weather with a number: 1 for bad weather, 0 for good\n",
    "replacement_list = {'Fine + high winds': 1,\n",
    "  'Fine no high winds': 0,\n",
    "  'Fog or mist': 1,\n",
    "  'Other': 0,\n",
    "  'Raining + high winds': 1,\n",
    "  'Raining no high winds': 1,\n",
    "  'Snowing + high winds': 1,\n",
    "  'Snowing no high winds': 1}"
   ]
  },
  {
   "cell_type": "code",
   "execution_count": 195,
   "metadata": {},
   "outputs": [],
   "source": [
    "severities = [\"Serious\", \"Slight\", \"Fatal\"]"
   ]
  },
  {
   "cell_type": "code",
   "execution_count": 196,
   "metadata": {},
   "outputs": [],
   "source": [
    "w_dict = {}\n",
    "for severity in severities:\n",
    "    w_dict[severity] = {}\n",
    "    for weather_type in replacement_list.keys():\n",
    "        matches = len(accidents[(accidents[\"Weather_Conditions\"] == weather_type) &\n",
    "                               (accidents[\"Accident_Severity\"] == severity)])\n",
    "        w_dict[severity][weather_type] = matches"
   ]
  },
  {
   "cell_type": "code",
   "execution_count": 197,
   "metadata": {},
   "outputs": [],
   "source": [
    "# Plot results\n",
    "import matplotlib.pyplot as plt\n",
    "plt.rcParams[\"figure.figsize\"] = (40,20)\n",
    "\n",
    "d_serious = w_dict[\"Serious\"]\n",
    "d_slight = w_dict[\"Slight\"]\n",
    "d_fatal = w_dict[\"Fatal\"]\n"
   ]
  },
  {
   "cell_type": "code",
   "execution_count": 198,
   "metadata": {},
   "outputs": [],
   "source": [
    "def plot_wtype(wtype, title):\n",
    "    plt.figure()\n",
    "    plt.title = title\n",
    "    plt.bar(range(len(wtype)), list(wtype.values()), align='center')\n",
    "    plt.xticks(range(len(wtype)), list(wtype.keys()))\n",
    "    plt.show()"
   ]
  },
  {
   "cell_type": "code",
   "execution_count": 199,
   "metadata": {},
   "outputs": [],
   "source": [
    "# plot_wtype(d_fatal, \"Fatal\")"
   ]
  },
  {
   "cell_type": "markdown",
   "metadata": {},
   "source": [
    "## Hypothesis testing\n",
    "$H_0$: Prop(bad, (serious|fatal)) = Prop(bad, slight)\n",
    "\n",
    "\n",
    "$H_1$: Prop(bad, (serious|fatal)) > Prop(bad, slight)\n",
    "\n",
    "For a p-value of 0.05."
   ]
  },
  {
   "cell_type": "code",
   "execution_count": 200,
   "metadata": {},
   "outputs": [],
   "source": [
    "# Replace the weather\n",
    "accidents[\"Weather_Conditions\"] = accidents[\"Weather_Conditions\"].map(replacement_list)"
   ]
  },
  {
   "cell_type": "code",
   "execution_count": 201,
   "metadata": {},
   "outputs": [],
   "source": [
    "slight_list = list(accidents[\n",
    "    (accidents[\"Accident_Severity\"] == \"Slight\")]\n",
    "                   .Weather_Conditions)"
   ]
  },
  {
   "cell_type": "code",
   "execution_count": 202,
   "metadata": {},
   "outputs": [],
   "source": [
    "bad_list = list(accidents[\n",
    "    (accidents[\"Accident_Severity\"] == (\"Serious\" or \"Fatal\"))]\n",
    "                   .Weather_Conditions)"
   ]
  },
  {
   "cell_type": "code",
   "execution_count": 203,
   "metadata": {},
   "outputs": [
    {
     "data": {
      "text/plain": [
       "Ttest_indResult(statistic=1.5539014982290393, pvalue=0.12033987342840149)"
      ]
     },
     "execution_count": 203,
     "metadata": {},
     "output_type": "execute_result"
    }
   ],
   "source": [
    "# Actually do the hypothesis test\n",
    "from scipy.stats import ttest_ind\n",
    "ttest_ind(slight_list, bad_list)"
   ]
  },
  {
   "cell_type": "markdown",
   "metadata": {},
   "source": [
    "p > 0.05, so the result is not significant and we accept the null hypothesis."
   ]
  },
  {
   "cell_type": "markdown",
   "metadata": {},
   "source": [
    "# 2: Times of day\n"
   ]
  },
  {
   "cell_type": "code",
   "execution_count": 205,
   "metadata": {},
   "outputs": [],
   "source": [
    "accidents = pandas.concat([accidents, accidents_15, accidents_14], axis=0)"
   ]
  },
  {
   "cell_type": "code",
   "execution_count": 248,
   "metadata": {},
   "outputs": [],
   "source": [
    "import datetime\n",
    "from astral import Astral\n",
    "def sun_at_day(day):\n",
    "    city_name = 'Edinburgh'\n",
    "    a = Astral()\n",
    "    a.solar_depression = 'civil'\n",
    "    city = a[city_name]\n",
    "    sun = city.sun(date = day, local=False)\n",
    "    return sun\n",
    "\n",
    "def is_day(x):\n",
    "    time_x = datetime.datetime.strptime(x + \" UTC\", '%d/%m/%Y %H:%M %Z')\n",
    "    sun = sun_at_day(time_x)\n",
    "    \n",
    "    \n",
    "    if (sun['sunrise'] < time_x < sun['sunset']):\n",
    "        return \"Daylight\""
   ]
  },
  {
   "cell_type": "code",
   "execution_count": 249,
   "metadata": {},
   "outputs": [
    {
     "name": "stdout",
     "output_type": "stream",
     "text": [
      "2015-12-26 08:43:57+00:00\n",
      "2015-12-26 19:50:00\n"
     ]
    },
    {
     "ename": "TypeError",
     "evalue": "can't compare offset-naive and offset-aware datetimes",
     "output_type": "error",
     "traceback": [
      "\u001b[0;31m---------------------------------------------------------------------------\u001b[0m",
      "\u001b[0;31mTypeError\u001b[0m                                 Traceback (most recent call last)",
      "\u001b[0;32m<ipython-input-249-a1a175308c6c>\u001b[0m in \u001b[0;36m<module>\u001b[0;34m()\u001b[0m\n\u001b[0;32m----> 1\u001b[0;31m \u001b[0mis_day\u001b[0m\u001b[0;34m(\u001b[0m\u001b[0;34m\"26/12/2015 19:50\"\u001b[0m\u001b[0;34m)\u001b[0m\u001b[0;34m\u001b[0m\u001b[0m\n\u001b[0m",
      "\u001b[0;32m<ipython-input-248-d347a162ce5f>\u001b[0m in \u001b[0;36mis_day\u001b[0;34m(x)\u001b[0m\n\u001b[1;32m     14\u001b[0m     \u001b[0mprint\u001b[0m\u001b[0;34m(\u001b[0m\u001b[0msun\u001b[0m\u001b[0;34m[\u001b[0m\u001b[0;34m\"sunrise\"\u001b[0m\u001b[0;34m]\u001b[0m\u001b[0;34m)\u001b[0m\u001b[0;34m\u001b[0m\u001b[0m\n\u001b[1;32m     15\u001b[0m     \u001b[0mprint\u001b[0m\u001b[0;34m(\u001b[0m\u001b[0mtime_x\u001b[0m\u001b[0;34m)\u001b[0m\u001b[0;34m\u001b[0m\u001b[0m\n\u001b[0;32m---> 16\u001b[0;31m     \u001b[0;32mif\u001b[0m \u001b[0;34m(\u001b[0m\u001b[0msun\u001b[0m\u001b[0;34m[\u001b[0m\u001b[0;34m'sunrise'\u001b[0m\u001b[0;34m]\u001b[0m \u001b[0;34m<\u001b[0m \u001b[0mtime_x\u001b[0m \u001b[0;34m<\u001b[0m \u001b[0msun\u001b[0m\u001b[0;34m[\u001b[0m\u001b[0;34m'sunset'\u001b[0m\u001b[0;34m]\u001b[0m\u001b[0;34m)\u001b[0m\u001b[0;34m:\u001b[0m\u001b[0;34m\u001b[0m\u001b[0m\n\u001b[0m\u001b[1;32m     17\u001b[0m         \u001b[0;32mreturn\u001b[0m \u001b[0;34m\"Daylight\"\u001b[0m\u001b[0;34m\u001b[0m\u001b[0m\n",
      "\u001b[0;31mTypeError\u001b[0m: can't compare offset-naive and offset-aware datetimes"
     ]
    }
   ],
   "source": [
    "is_day(\"26/12/2015 19:50\")"
   ]
  },
  {
   "cell_type": "code",
   "execution_count": null,
   "metadata": {},
   "outputs": [],
   "source": []
  },
  {
   "cell_type": "code",
   "execution_count": 209,
   "metadata": {},
   "outputs": [],
   "source": [
    "#bad_accidents = accidents[(accidents[\"Accident_Severity\"] == (\"Serious\" or \"Fatal\"))]\n",
    "\n",
    "#bad_accidents = bad_accidents.Time.map(lambda x: hour_x(x))"
   ]
  },
  {
   "cell_type": "code",
   "execution_count": 213,
   "metadata": {},
   "outputs": [],
   "source": [
    "#bins = [0, 6, 19, 24]"
   ]
  },
  {
   "cell_type": "code",
   "execution_count": 219,
   "metadata": {},
   "outputs": [
    {
     "data": {
      "text/plain": [
       "0       26/12/2015 19:50\n",
       "1       25/12/2015 23:40\n",
       "2       14/12/2015 16:30\n",
       "3       11/12/2015 15:50\n",
       "4       03/01/2015 12:06\n",
       "5        13/01/2015 8:15\n",
       "6       09/01/2015 19:30\n",
       "7       09/01/2015 17:40\n",
       "8        19/01/2015 8:20\n",
       "9       22/01/2015 17:50\n",
       "10      25/01/2015 18:15\n",
       "11      22/01/2015 14:55\n",
       "12      07/02/2015 17:20\n",
       "13      09/02/2015 10:30\n",
       "14      03/02/2015 18:00\n",
       "15      03/02/2015 16:05\n",
       "16      17/02/2015 17:25\n",
       "17      03/01/2015 19:30\n",
       "18      03/03/2015 12:20\n",
       "19       06/03/2015 8:35\n",
       "20      26/02/2015 10:30\n",
       "21       16/02/2015 9:30\n",
       "22       06/02/2015 8:50\n",
       "23      27/02/2015 19:30\n",
       "24      18/02/2015 14:40\n",
       "25      18/02/2015 14:00\n",
       "26      07/02/2015 14:55\n",
       "27      04/03/2015 17:20\n",
       "28      05/01/2015 12:10\n",
       "29      07/01/2015 17:15\n",
       "              ...       \n",
       "2269    09/10/2014 08:00\n",
       "2270    10/10/2014 16:00\n",
       "2271    12/09/2014 15:10\n",
       "2272    08/09/2014 17:15\n",
       "2273    03/10/2014 22:30\n",
       "2274    16/10/2014 22:20\n",
       "2275    17/10/2014 15:45\n",
       "2276    07/11/2014 19:15\n",
       "2277    12/11/2014 17:30\n",
       "2278    10/12/2014 14:20\n",
       "2279    24/12/2014 13:30\n",
       "2280    05/11/2014 17:40\n",
       "2281    28/11/2014 16:30\n",
       "2282    24/11/2014 13:00\n",
       "2283    18/11/2014 07:10\n",
       "2284    22/11/2014 16:00\n",
       "2285    05/11/2014 10:10\n",
       "2286    31/10/2014 16:50\n",
       "2287    05/12/2014 16:00\n",
       "2288    30/11/2014 18:40\n",
       "2289    28/11/2014 16:15\n",
       "2290    11/12/2014 13:13\n",
       "2291    18/12/2014 13:15\n",
       "2292    08/12/2014 11:10\n",
       "2293    09/12/2014 17:30\n",
       "2294    30/12/2014 17:40\n",
       "2295    15/12/2014 16:40\n",
       "2296    28/12/2014 13:00\n",
       "2297    16/12/2014 16:45\n",
       "2298    21/12/2014 23:20\n",
       "Length: 7290, dtype: object"
      ]
     },
     "execution_count": 219,
     "metadata": {},
     "output_type": "execute_result"
    }
   ],
   "source": [
    "accidents.Date + \" \" + accidents.Time"
   ]
  }
 ],
 "metadata": {
  "kernelspec": {
   "display_name": "Python 3",
   "language": "python",
   "name": "python3"
  },
  "language_info": {
   "codemirror_mode": {
    "name": "ipython",
    "version": 3
   },
   "file_extension": ".py",
   "mimetype": "text/x-python",
   "name": "python",
   "nbconvert_exporter": "python",
   "pygments_lexer": "ipython3",
   "version": "3.6.4"
  }
 },
 "nbformat": 4,
 "nbformat_minor": 2
}
