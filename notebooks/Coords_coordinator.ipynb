{
 "cells": [
  {
   "cell_type": "markdown",
   "metadata": {},
   "source": [
    "Convert public space cameras coordinates from British National Grid coordinates to lat/long"
   ]
  },
  {
   "cell_type": "code",
   "execution_count": 3,
   "metadata": {},
   "outputs": [],
   "source": [
    "#\n",
    "# Converts eastings and northings (British national grid coordinates) to Lat/Long\n",
    "#\n",
    "# Original code author: Hannah Fry; see code/comments here: \n",
    "# http://www.hannahfry.co.uk/blog/2012/02/01/converting-british-national-grid-to-latitude-and-longitude-ii\n",
    "#\n",
    "\n",
    "from math import sqrt, pi, sin, cos, tan, atan2 as arctan2\n",
    "import csv\n",
    "\n",
    "def OSGB36toWGS84(E, N):\n",
    "    # E, N are the British national grid coordinates - eastings and northings\n",
    "    # The Airy 180 semi-major and semi-minor axes used for OSGB36 (m)\n",
    "    a, b = 6377563.396, 6356256.909\n",
    "    F0 = 0.9996012717  # scale factor on the central meridian\n",
    "    lat0 = 49 * pi / 180  # Latitude of true origin (radians)\n",
    "    # Longtitude of true origin and central meridian (radians)\n",
    "    lon0 = -2 * pi / 180\n",
    "    N0, E0 = -100000, 400000  # Northing & easting of true origin (m)\n",
    "    e2 = 1 - (b * b) / (a * a)  # eccentricity squared\n",
    "    n = (a - b) / (a + b)\n",
    "\n",
    "    # Initialise the iterative variables\n",
    "    lat, M = lat0, 0\n",
    "\n",
    "    while N - N0 - M >= 0.00001:  # Accurate to 0.01mm\n",
    "        lat = (N - N0 - M) / (a * F0) + lat\n",
    "        M1 = (1 + n + (5. / 4) * n**2 + (5. / 4) * n**3) * (lat - lat0)\n",
    "        M2 = (3 * n + 3 * n**2 + (21. / 8) * n**3) * \\\n",
    "            sin(lat - lat0) * cos(lat + lat0)\n",
    "        M3 = ((15. / 8) * n**2 + (15. / 8) * n**3) * \\\n",
    "            sin(2 * (lat - lat0)) * cos(2 * (lat + lat0))\n",
    "        M4 = (35. / 24) * n**3 * sin(3 * (lat - lat0)) * cos(3 * (lat + lat0))\n",
    "        # meridional arc\n",
    "        M = b * F0 * (M1 - M2 + M3 - M4)\n",
    "\n",
    "    # transverse radius of curvature\n",
    "    nu = a * F0 / sqrt(1 - e2 * sin(lat)**2)\n",
    "\n",
    "    # meridional radius of curvature\n",
    "    rho = a * F0 * (1 - e2) * (1 - e2 * sin(lat)**2)**(-1.5)\n",
    "    eta2 = nu / rho - 1\n",
    "\n",
    "    secLat = 1. / cos(lat)\n",
    "    VII = tan(lat) / (2 * rho * nu)\n",
    "    VIII = tan(lat) / (24 * rho * nu**3) * \\\n",
    "        (5 + 3 * tan(lat)**2 + eta2 - 9 * tan(lat)**2 * eta2)\n",
    "    IX = tan(lat) / (720 * rho * nu**5) * \\\n",
    "        (61 + 90 * tan(lat)**2 + 45 * tan(lat)**4)\n",
    "    X = secLat / nu\n",
    "    XI = secLat / (6 * nu**3) * (nu / rho + 2 * tan(lat)**2)\n",
    "    XII = secLat / (120 * nu**5) * (5 + 28 * tan(lat)**2 + 24 * tan(lat)**4)\n",
    "    XIIA = secLat / (5040 * nu**7) * (61 + 662 * tan(lat) **\n",
    "                                      2 + 1320 * tan(lat)**4 + 720 * tan(lat)**6)\n",
    "    dE = E - E0\n",
    "\n",
    "    # These are on the wrong ellipsoid currently: Airy1830. (Denoted by _1)\n",
    "    lat_1 = lat - VII * dE**2 + VIII * dE**4 - IX * dE**6\n",
    "    lon_1 = lon0 + X * dE - XI * dE**3 + XII * dE**5 - XIIA * dE**7\n",
    "\n",
    "    # Want to convert to the GRS80 ellipsoid.\n",
    "    # First convert to cartesian from spherical polar coordinates\n",
    "    H = 0  # Third spherical coord.\n",
    "    x_1 = (nu / F0 + H) * cos(lat_1) * cos(lon_1)\n",
    "    y_1 = (nu / F0 + H) * cos(lat_1) * sin(lon_1)\n",
    "    z_1 = ((1 - e2) * nu / F0 + H) * sin(lat_1)\n",
    "\n",
    "    # Perform Helmut transform (to go between Airy 1830 (_1) and GRS80 (_2))\n",
    "    s = -20.4894 * 10**-6  # The scale factor -1\n",
    "    # The translations along x,y,z axes respectively\n",
    "    tx, ty, tz = 446.448, -125.157, + 542.060\n",
    "    # The rotations along x,y,z respectively, in seconds\n",
    "    rxs, rys, rzs = 0.1502,  0.2470,  0.8421\n",
    "    rx, ry, rz = rxs * pi / (180 * 3600.), rys * pi / \\\n",
    "        (180 * 3600.), rzs * pi / (180 * 3600.)  # In radians\n",
    "    x_2 = tx + (1 + s) * x_1 + (-rz) * y_1 + (ry) * z_1\n",
    "    y_2 = ty + (rz) * x_1 + (1 + s) * y_1 + (-rx) * z_1\n",
    "    z_2 = tz + (-ry) * x_1 + (rx) * y_1 + (1 + s) * z_1\n",
    "\n",
    "    # Back to spherical polar coordinates from cartesian\n",
    "    # Need some of the characteristics of the new ellipsoid\n",
    "    # The GSR80 semi-major and semi-minor axes used for WGS84(m)\n",
    "    a_2, b_2 = 6378137.000, 6356752.3141\n",
    "    # The eccentricity of the GRS80 ellipsoid\n",
    "    e2_2 = 1 - (b_2 * b_2) / (a_2 * a_2)\n",
    "    p = sqrt(x_2**2 + y_2**2)\n",
    "\n",
    "    # Lat is obtained by an iterative proceedure:\n",
    "    lat = arctan2(z_2, (p * (1 - e2_2)))  # Initial value\n",
    "    latold = 2 * pi\n",
    "    while abs(lat - latold) > 10**-16:\n",
    "        lat, latold = latold, lat\n",
    "        nu_2 = a_2 / sqrt(1 - e2_2 * sin(latold)**2)\n",
    "        lat = arctan2(z_2 + e2_2 * nu_2 * sin(latold), p)\n",
    "\n",
    "    # Lon and height are then pretty easy\n",
    "    lon = arctan2(y_2, x_2)\n",
    "    H = p / cos(lat) - nu_2\n",
    "\n",
    "    # Uncomment this line if you want to print the results\n",
    "    # print([(lat-lat_1)*180/pi, (lon - lon_1)*180/pi])\n",
    "\n",
    "    # Convert to degrees\n",
    "    lat = lat * 180 / pi\n",
    "    lon = lon * 180 / pi\n",
    "\n",
    "    # Job's a good'n.\n",
    "    return lat, lon\n"
   ]
  },
  {
   "cell_type": "code",
   "execution_count": 5,
   "metadata": {},
   "outputs": [],
   "source": [
    "import csv"
   ]
  },
  {
   "cell_type": "code",
   "execution_count": 25,
   "metadata": {},
   "outputs": [
    {
     "data": {
      "text/plain": [
       "['CAM', 'Camera number', 'Camera Location', 'X_Coordinate', 'Y_Coordinate']"
      ]
     },
     "execution_count": 25,
     "metadata": {},
     "output_type": "execute_result"
    }
   ],
   "source": [
    "# Read in CSV to list\n",
    "cameras = '../datasets/public-space-cctv-cameras-location-and-coordinates.csv'\n",
    "cameras_content = []\n",
    "reader = csv.reader(open(cameras))\n",
    "for row in reader:\n",
    "    cameras_content.append(row)\n",
    "# Remove first row, it's just headings\n",
    "cameras_content.pop(0)\n"
   ]
  },
  {
   "cell_type": "code",
   "execution_count": 35,
   "metadata": {},
   "outputs": [],
   "source": [
    "# For each row, convert coordinates to lat/long\n",
    "for row in cameras_content:\n",
    "    # These should all be ints, so it's fine to type coerce\n",
    "    x = row[3]\n",
    "    y = row[4]\n",
    "    # Empty, skip\n",
    "    if not x or not y:\n",
    "        continue\n",
    "    lat, lon = OSGB36toWGS84(int(x), int(y))\n",
    "    row[3] = lat\n",
    "    row[4] = lon\n",
    "    "
   ]
  },
  {
   "cell_type": "code",
   "execution_count": 42,
   "metadata": {},
   "outputs": [],
   "source": [
    "# Write to file \n",
    "with open('../datasets/cameras_wgs.csv', 'w') as csvfile:\n",
    "    writer = csv.writer(csvfile, delimiter='\\t')\n",
    "    writer.writerows(cameras_content)"
   ]
  }
 ],
 "metadata": {
  "kernelspec": {
   "display_name": "Python 3",
   "language": "python",
   "name": "python3"
  },
  "language_info": {
   "codemirror_mode": {
    "name": "ipython",
    "version": 3
   },
   "file_extension": ".py",
   "mimetype": "text/x-python",
   "name": "python",
   "nbconvert_exporter": "python",
   "pygments_lexer": "ipython3",
   "version": "3.6.4"
  }
 },
 "nbformat": 4,
 "nbformat_minor": 2
}
